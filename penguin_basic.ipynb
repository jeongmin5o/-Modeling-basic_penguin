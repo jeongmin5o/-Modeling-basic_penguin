{
 "cells": [
  {
   "cell_type": "code",
   "execution_count": 50,
   "id": "bbc59baa",
   "metadata": {},
   "outputs": [],
   "source": [
    "# 라이브러리 불러오기\n",
    "import matplotlib.pylab as plt\n",
    "import seaborn as sns\n",
    "import numpy as np\n",
    "import pandas as pd"
   ]
  },
  {
   "cell_type": "code",
   "execution_count": 51,
   "id": "e18861c7",
   "metadata": {},
   "outputs": [
    {
     "data": {
      "text/html": [
       "<div>\n",
       "<style scoped>\n",
       "    .dataframe tbody tr th:only-of-type {\n",
       "        vertical-align: middle;\n",
       "    }\n",
       "\n",
       "    .dataframe tbody tr th {\n",
       "        vertical-align: top;\n",
       "    }\n",
       "\n",
       "    .dataframe thead th {\n",
       "        text-align: right;\n",
       "    }\n",
       "</style>\n",
       "<table border=\"1\" class=\"dataframe\">\n",
       "  <thead>\n",
       "    <tr style=\"text-align: right;\">\n",
       "      <th></th>\n",
       "      <th>species</th>\n",
       "      <th>island</th>\n",
       "      <th>bill_length_mm</th>\n",
       "      <th>bill_depth_mm</th>\n",
       "      <th>flipper_length_mm</th>\n",
       "      <th>body_mass_g</th>\n",
       "      <th>sex</th>\n",
       "    </tr>\n",
       "  </thead>\n",
       "  <tbody>\n",
       "    <tr>\n",
       "      <th>0</th>\n",
       "      <td>Adelie</td>\n",
       "      <td>Torgersen</td>\n",
       "      <td>39.1</td>\n",
       "      <td>18.7</td>\n",
       "      <td>181.0</td>\n",
       "      <td>3750.0</td>\n",
       "      <td>Male</td>\n",
       "    </tr>\n",
       "    <tr>\n",
       "      <th>1</th>\n",
       "      <td>Adelie</td>\n",
       "      <td>Torgersen</td>\n",
       "      <td>39.5</td>\n",
       "      <td>17.4</td>\n",
       "      <td>186.0</td>\n",
       "      <td>3800.0</td>\n",
       "      <td>Female</td>\n",
       "    </tr>\n",
       "    <tr>\n",
       "      <th>2</th>\n",
       "      <td>Adelie</td>\n",
       "      <td>Torgersen</td>\n",
       "      <td>40.3</td>\n",
       "      <td>18.0</td>\n",
       "      <td>195.0</td>\n",
       "      <td>3250.0</td>\n",
       "      <td>Female</td>\n",
       "    </tr>\n",
       "    <tr>\n",
       "      <th>3</th>\n",
       "      <td>Adelie</td>\n",
       "      <td>Torgersen</td>\n",
       "      <td>NaN</td>\n",
       "      <td>NaN</td>\n",
       "      <td>NaN</td>\n",
       "      <td>NaN</td>\n",
       "      <td>NaN</td>\n",
       "    </tr>\n",
       "    <tr>\n",
       "      <th>4</th>\n",
       "      <td>Adelie</td>\n",
       "      <td>Torgersen</td>\n",
       "      <td>36.7</td>\n",
       "      <td>19.3</td>\n",
       "      <td>193.0</td>\n",
       "      <td>3450.0</td>\n",
       "      <td>Female</td>\n",
       "    </tr>\n",
       "  </tbody>\n",
       "</table>\n",
       "</div>"
      ],
      "text/plain": [
       "  species     island  bill_length_mm  bill_depth_mm  flipper_length_mm  \\\n",
       "0  Adelie  Torgersen            39.1           18.7              181.0   \n",
       "1  Adelie  Torgersen            39.5           17.4              186.0   \n",
       "2  Adelie  Torgersen            40.3           18.0              195.0   \n",
       "3  Adelie  Torgersen             NaN            NaN                NaN   \n",
       "4  Adelie  Torgersen            36.7           19.3              193.0   \n",
       "\n",
       "   body_mass_g     sex  \n",
       "0       3750.0    Male  \n",
       "1       3800.0  Female  \n",
       "2       3250.0  Female  \n",
       "3          NaN     NaN  \n",
       "4       3450.0  Female  "
      ]
     },
     "execution_count": 51,
     "metadata": {},
     "output_type": "execute_result"
    }
   ],
   "source": [
    "# 실습 데이터 세트 로드 (펭귄 데이터)\n",
    "penguins = sns.load_dataset(\"penguins\")\n",
    "penguins.head()"
   ]
  },
  {
   "cell_type": "code",
   "execution_count": 52,
   "id": "4ea3a1d7",
   "metadata": {},
   "outputs": [],
   "source": [
    "# 결측값 확인 \n",
    "penguins.isnull().sum()\n",
    "\n",
    "# 결측값 제거\n",
    "penguins = penguins.dropna(subset=['sex'])        \n"
   ]
  },
  {
   "cell_type": "markdown",
   "id": "411cde83",
   "metadata": {},
   "source": [
    "## 스케일링\n",
    "- 숫자형 -> 표준화\n",
    "- 문자형 -> 인코딩 "
   ]
  },
  {
   "cell_type": "code",
   "execution_count": 53,
   "id": "9afade5c",
   "metadata": {},
   "outputs": [
    {
     "name": "stdout",
     "output_type": "stream",
     "text": [
      "<class 'pandas.core.frame.DataFrame'>\n",
      "Int64Index: 333 entries, 0 to 343\n",
      "Data columns (total 7 columns):\n",
      " #   Column             Non-Null Count  Dtype  \n",
      "---  ------             --------------  -----  \n",
      " 0   species            333 non-null    object \n",
      " 1   island             333 non-null    object \n",
      " 2   bill_length_mm     333 non-null    float64\n",
      " 3   bill_depth_mm      333 non-null    float64\n",
      " 4   flipper_length_mm  333 non-null    float64\n",
      " 5   body_mass_g        333 non-null    float64\n",
      " 6   sex                333 non-null    object \n",
      "dtypes: float64(4), object(3)\n",
      "memory usage: 20.8+ KB\n"
     ]
    }
   ],
   "source": [
    "penguins.info()"
   ]
  },
  {
   "cell_type": "code",
   "execution_count": 54,
   "id": "a589b84e",
   "metadata": {},
   "outputs": [],
   "source": [
    "#숫자형 데이터 표준화(Standardization)\n",
    "# bill_length_mm, bill_depth_mm, flipper_length_mm, body_mass_g   \n",
    "from sklearn.preprocessing import StandardScaler\n",
    "\n",
    "#스케일러 정의\n",
    "scaler = StandardScaler() \n",
    "\n",
    "penguins_scaled = penguins.copy() #원본 복사해두기\n",
    "#표준화할 컬럼만 데이터 프레임화\n",
    "features = penguins_scaled[['bill_length_mm', 'bill_depth_mm', 'flipper_length_mm', 'body_mass_g']]\n",
    "features_stand = scaler.fit_transform(features)  #표준화"
   ]
  },
  {
   "cell_type": "code",
   "execution_count": 55,
   "id": "5fc9fa1d",
   "metadata": {},
   "outputs": [
    {
     "data": {
      "text/html": [
       "<div>\n",
       "<style scoped>\n",
       "    .dataframe tbody tr th:only-of-type {\n",
       "        vertical-align: middle;\n",
       "    }\n",
       "\n",
       "    .dataframe tbody tr th {\n",
       "        vertical-align: top;\n",
       "    }\n",
       "\n",
       "    .dataframe thead th {\n",
       "        text-align: right;\n",
       "    }\n",
       "</style>\n",
       "<table border=\"1\" class=\"dataframe\">\n",
       "  <thead>\n",
       "    <tr style=\"text-align: right;\">\n",
       "      <th></th>\n",
       "      <th>0</th>\n",
       "      <th>1</th>\n",
       "      <th>2</th>\n",
       "      <th>3</th>\n",
       "    </tr>\n",
       "  </thead>\n",
       "  <tbody>\n",
       "    <tr>\n",
       "      <th>0</th>\n",
       "      <td>-0.896042</td>\n",
       "      <td>0.780732</td>\n",
       "      <td>-1.426752</td>\n",
       "      <td>-0.568475</td>\n",
       "    </tr>\n",
       "    <tr>\n",
       "      <th>1</th>\n",
       "      <td>-0.822788</td>\n",
       "      <td>0.119584</td>\n",
       "      <td>-1.069474</td>\n",
       "      <td>-0.506286</td>\n",
       "    </tr>\n",
       "    <tr>\n",
       "      <th>2</th>\n",
       "      <td>-0.676280</td>\n",
       "      <td>0.424729</td>\n",
       "      <td>-0.426373</td>\n",
       "      <td>-1.190361</td>\n",
       "    </tr>\n",
       "    <tr>\n",
       "      <th>3</th>\n",
       "      <td>-1.335566</td>\n",
       "      <td>1.085877</td>\n",
       "      <td>-0.569284</td>\n",
       "      <td>-0.941606</td>\n",
       "    </tr>\n",
       "    <tr>\n",
       "      <th>4</th>\n",
       "      <td>-0.859415</td>\n",
       "      <td>1.747026</td>\n",
       "      <td>-0.783651</td>\n",
       "      <td>-0.692852</td>\n",
       "    </tr>\n",
       "    <tr>\n",
       "      <th>...</th>\n",
       "      <td>...</td>\n",
       "      <td>...</td>\n",
       "      <td>...</td>\n",
       "      <td>...</td>\n",
       "    </tr>\n",
       "    <tr>\n",
       "      <th>328</th>\n",
       "      <td>0.587352</td>\n",
       "      <td>-1.762145</td>\n",
       "      <td>0.931283</td>\n",
       "      <td>0.892957</td>\n",
       "    </tr>\n",
       "    <tr>\n",
       "      <th>329</th>\n",
       "      <td>0.514098</td>\n",
       "      <td>-1.457000</td>\n",
       "      <td>1.002739</td>\n",
       "      <td>0.799674</td>\n",
       "    </tr>\n",
       "    <tr>\n",
       "      <th>330</th>\n",
       "      <td>1.173384</td>\n",
       "      <td>-0.744994</td>\n",
       "      <td>1.502928</td>\n",
       "      <td>1.919069</td>\n",
       "    </tr>\n",
       "    <tr>\n",
       "      <th>331</th>\n",
       "      <td>0.221082</td>\n",
       "      <td>-1.202712</td>\n",
       "      <td>0.788372</td>\n",
       "      <td>1.234995</td>\n",
       "    </tr>\n",
       "    <tr>\n",
       "      <th>332</th>\n",
       "      <td>1.081817</td>\n",
       "      <td>-0.541564</td>\n",
       "      <td>0.859828</td>\n",
       "      <td>1.483749</td>\n",
       "    </tr>\n",
       "  </tbody>\n",
       "</table>\n",
       "<p>333 rows × 4 columns</p>\n",
       "</div>"
      ],
      "text/plain": [
       "            0         1         2         3\n",
       "0   -0.896042  0.780732 -1.426752 -0.568475\n",
       "1   -0.822788  0.119584 -1.069474 -0.506286\n",
       "2   -0.676280  0.424729 -0.426373 -1.190361\n",
       "3   -1.335566  1.085877 -0.569284 -0.941606\n",
       "4   -0.859415  1.747026 -0.783651 -0.692852\n",
       "..        ...       ...       ...       ...\n",
       "328  0.587352 -1.762145  0.931283  0.892957\n",
       "329  0.514098 -1.457000  1.002739  0.799674\n",
       "330  1.173384 -0.744994  1.502928  1.919069\n",
       "331  0.221082 -1.202712  0.788372  1.234995\n",
       "332  1.081817 -0.541564  0.859828  1.483749\n",
       "\n",
       "[333 rows x 4 columns]"
      ]
     },
     "execution_count": 55,
     "metadata": {},
     "output_type": "execute_result"
    }
   ],
   "source": [
    "pd.DataFrame(features_stand)"
   ]
  },
  {
   "cell_type": "code",
   "execution_count": 56,
   "id": "d2ccd4bf",
   "metadata": {},
   "outputs": [],
   "source": [
    "# 표준화된 데이터 넣어주기\n",
    "penguins_scaled = penguins_scaled.assign(bill_length_mm = features_stand[:,0],\n",
    "                                         bill_depth_mm = features_stand[:,1],\n",
    "                                         flipper_length_mm = features_stand[:,2],\n",
    "                                         body_mass_g = features_stand[:,3]    \n",
    ")"
   ]
  },
  {
   "cell_type": "code",
   "execution_count": 57,
   "id": "12f2a460",
   "metadata": {},
   "outputs": [
    {
     "data": {
      "text/html": [
       "<div>\n",
       "<style scoped>\n",
       "    .dataframe tbody tr th:only-of-type {\n",
       "        vertical-align: middle;\n",
       "    }\n",
       "\n",
       "    .dataframe tbody tr th {\n",
       "        vertical-align: top;\n",
       "    }\n",
       "\n",
       "    .dataframe thead th {\n",
       "        text-align: right;\n",
       "    }\n",
       "</style>\n",
       "<table border=\"1\" class=\"dataframe\">\n",
       "  <thead>\n",
       "    <tr style=\"text-align: right;\">\n",
       "      <th></th>\n",
       "      <th>species</th>\n",
       "      <th>island</th>\n",
       "      <th>bill_length_mm</th>\n",
       "      <th>bill_depth_mm</th>\n",
       "      <th>flipper_length_mm</th>\n",
       "      <th>body_mass_g</th>\n",
       "      <th>sex</th>\n",
       "    </tr>\n",
       "  </thead>\n",
       "  <tbody>\n",
       "    <tr>\n",
       "      <th>0</th>\n",
       "      <td>Adelie</td>\n",
       "      <td>Torgersen</td>\n",
       "      <td>-0.896042</td>\n",
       "      <td>0.780732</td>\n",
       "      <td>-1.426752</td>\n",
       "      <td>-0.568475</td>\n",
       "      <td>Male</td>\n",
       "    </tr>\n",
       "    <tr>\n",
       "      <th>1</th>\n",
       "      <td>Adelie</td>\n",
       "      <td>Torgersen</td>\n",
       "      <td>-0.822788</td>\n",
       "      <td>0.119584</td>\n",
       "      <td>-1.069474</td>\n",
       "      <td>-0.506286</td>\n",
       "      <td>Female</td>\n",
       "    </tr>\n",
       "    <tr>\n",
       "      <th>2</th>\n",
       "      <td>Adelie</td>\n",
       "      <td>Torgersen</td>\n",
       "      <td>-0.676280</td>\n",
       "      <td>0.424729</td>\n",
       "      <td>-0.426373</td>\n",
       "      <td>-1.190361</td>\n",
       "      <td>Female</td>\n",
       "    </tr>\n",
       "  </tbody>\n",
       "</table>\n",
       "</div>"
      ],
      "text/plain": [
       "  species     island  bill_length_mm  bill_depth_mm  flipper_length_mm  \\\n",
       "0  Adelie  Torgersen       -0.896042       0.780732          -1.426752   \n",
       "1  Adelie  Torgersen       -0.822788       0.119584          -1.069474   \n",
       "2  Adelie  Torgersen       -0.676280       0.424729          -0.426373   \n",
       "\n",
       "   body_mass_g     sex  \n",
       "0    -0.568475    Male  \n",
       "1    -0.506286  Female  \n",
       "2    -1.190361  Female  "
      ]
     },
     "execution_count": 57,
     "metadata": {},
     "output_type": "execute_result"
    }
   ],
   "source": [
    "penguins_scaled.head(3) # 확인"
   ]
  },
  {
   "cell_type": "code",
   "execution_count": 58,
   "id": "4962bd4c",
   "metadata": {},
   "outputs": [
    {
     "data": {
      "text/plain": [
       "<AxesSubplot:ylabel='Count'>"
      ]
     },
     "execution_count": 58,
     "metadata": {},
     "output_type": "execute_result"
    },
    {
     "data": {
      "image/png": "[encoded data removed]",
      "text/plain": [
       "<Figure size 432x288 with 1 Axes>"
      ]
     },
     "metadata": {
      "needs_background": "light"
     },
     "output_type": "display_data"
    }
   ],
   "source": [
    "sns.histplot(penguins_scaled)  # 히스토그램으로 그려주기"
   ]
  },
  {
   "cell_type": "markdown",
   "id": "d75f1354",
   "metadata": {},
   "source": [
    "- 히스토그램이 쌍봉을 이루고 있다"
   ]
  },
  {
   "cell_type": "code",
   "execution_count": 59,
   "id": "8d25cf7f",
   "metadata": {},
   "outputs": [],
   "source": [
    "# 문자형 데이터 인코딩 - laber encoding\n",
    "# species, island, sex\n",
    "from sklearn.preprocessing import LabelEncoder\n",
    "\n",
    "encoder = LabelEncoder()\n",
    "penguins_label = penguins_scaled.copy()\n",
    "\n",
    "features = penguins_label[['species', 'island', 'sex']]\n",
    "\n",
    "#인코딩 실행\n",
    "encoded = features.apply(encoder.fit_transform)"
   ]
  },
  {
   "cell_type": "code",
   "execution_count": 60,
   "id": "2af233ab",
   "metadata": {},
   "outputs": [
    {
     "data": {
      "text/html": [
       "<div>\n",
       "<style scoped>\n",
       "    .dataframe tbody tr th:only-of-type {\n",
       "        vertical-align: middle;\n",
       "    }\n",
       "\n",
       "    .dataframe tbody tr th {\n",
       "        vertical-align: top;\n",
       "    }\n",
       "\n",
       "    .dataframe thead th {\n",
       "        text-align: right;\n",
       "    }\n",
       "</style>\n",
       "<table border=\"1\" class=\"dataframe\">\n",
       "  <thead>\n",
       "    <tr style=\"text-align: right;\">\n",
       "      <th></th>\n",
       "      <th>species</th>\n",
       "      <th>island</th>\n",
       "      <th>sex</th>\n",
       "    </tr>\n",
       "  </thead>\n",
       "  <tbody>\n",
       "    <tr>\n",
       "      <th>0</th>\n",
       "      <td>0</td>\n",
       "      <td>2</td>\n",
       "      <td>1</td>\n",
       "    </tr>\n",
       "    <tr>\n",
       "      <th>1</th>\n",
       "      <td>0</td>\n",
       "      <td>2</td>\n",
       "      <td>0</td>\n",
       "    </tr>\n",
       "    <tr>\n",
       "      <th>2</th>\n",
       "      <td>0</td>\n",
       "      <td>2</td>\n",
       "      <td>0</td>\n",
       "    </tr>\n",
       "  </tbody>\n",
       "</table>\n",
       "</div>"
      ],
      "text/plain": [
       "   species  island  sex\n",
       "0        0       2    1\n",
       "1        0       2    0\n",
       "2        0       2    0"
      ]
     },
     "execution_count": 60,
     "metadata": {},
     "output_type": "execute_result"
    }
   ],
   "source": [
    "encoded.head(3)"
   ]
  },
  {
   "cell_type": "code",
   "execution_count": 61,
   "id": "b8aa8517",
   "metadata": {},
   "outputs": [
    {
     "data": {
      "text/plain": [
       "(array([1, 0]), array(['Male', 'Female'], dtype=object))"
      ]
     },
     "execution_count": 61,
     "metadata": {},
     "output_type": "execute_result"
    }
   ],
   "source": [
    "encoded['sex'].unique(), penguins['sex'].unique()"
   ]
  },
  {
   "cell_type": "code",
   "execution_count": 62,
   "id": "c2355679",
   "metadata": {},
   "outputs": [
    {
     "data": {
      "text/html": [
       "<div>\n",
       "<style scoped>\n",
       "    .dataframe tbody tr th:only-of-type {\n",
       "        vertical-align: middle;\n",
       "    }\n",
       "\n",
       "    .dataframe tbody tr th {\n",
       "        vertical-align: top;\n",
       "    }\n",
       "\n",
       "    .dataframe thead th {\n",
       "        text-align: right;\n",
       "    }\n",
       "</style>\n",
       "<table border=\"1\" class=\"dataframe\">\n",
       "  <thead>\n",
       "    <tr style=\"text-align: right;\">\n",
       "      <th></th>\n",
       "      <th>species</th>\n",
       "      <th>island</th>\n",
       "      <th>sex</th>\n",
       "    </tr>\n",
       "  </thead>\n",
       "  <tbody>\n",
       "    <tr>\n",
       "      <th>0</th>\n",
       "      <td>0</td>\n",
       "      <td>2</td>\n",
       "      <td>1</td>\n",
       "    </tr>\n",
       "    <tr>\n",
       "      <th>1</th>\n",
       "      <td>0</td>\n",
       "      <td>2</td>\n",
       "      <td>0</td>\n",
       "    </tr>\n",
       "    <tr>\n",
       "      <th>2</th>\n",
       "      <td>0</td>\n",
       "      <td>2</td>\n",
       "      <td>0</td>\n",
       "    </tr>\n",
       "  </tbody>\n",
       "</table>\n",
       "</div>"
      ],
      "text/plain": [
       "   species  island  sex\n",
       "0        0       2    1\n",
       "1        0       2    0\n",
       "2        0       2    0"
      ]
     },
     "execution_count": 62,
     "metadata": {},
     "output_type": "execute_result"
    }
   ],
   "source": [
    "encoded.head(3)"
   ]
  },
  {
   "cell_type": "markdown",
   "id": "de9e0096",
   "metadata": {},
   "source": [
    "|기존값|인코딩한값|\n",
    "|--|--|\n",
    "|Adelie|0|\n",
    "|Chinstrap|1|\n",
    "|Gentoo|2|\n",
    "|--|--|\n",
    "|Biscoe|0|\n",
    "|Dream|1|\n",
    "|Torgersen|2|\n",
    "|--|--|\n",
    "|Female|0|\n",
    "|Male|1|"
   ]
  },
  {
   "cell_type": "code",
   "execution_count": 63,
   "id": "8f2f099d",
   "metadata": {},
   "outputs": [
    {
     "data": {
      "text/html": [
       "<div>\n",
       "<style scoped>\n",
       "    .dataframe tbody tr th:only-of-type {\n",
       "        vertical-align: middle;\n",
       "    }\n",
       "\n",
       "    .dataframe tbody tr th {\n",
       "        vertical-align: top;\n",
       "    }\n",
       "\n",
       "    .dataframe thead th {\n",
       "        text-align: right;\n",
       "    }\n",
       "</style>\n",
       "<table border=\"1\" class=\"dataframe\">\n",
       "  <thead>\n",
       "    <tr style=\"text-align: right;\">\n",
       "      <th></th>\n",
       "      <th>species</th>\n",
       "      <th>island</th>\n",
       "      <th>bill_length_mm</th>\n",
       "      <th>bill_depth_mm</th>\n",
       "      <th>flipper_length_mm</th>\n",
       "      <th>body_mass_g</th>\n",
       "      <th>sex</th>\n",
       "    </tr>\n",
       "  </thead>\n",
       "  <tbody>\n",
       "    <tr>\n",
       "      <th>0</th>\n",
       "      <td>0</td>\n",
       "      <td>2</td>\n",
       "      <td>-0.896042</td>\n",
       "      <td>0.780732</td>\n",
       "      <td>-1.426752</td>\n",
       "      <td>-0.568475</td>\n",
       "      <td>1</td>\n",
       "    </tr>\n",
       "    <tr>\n",
       "      <th>1</th>\n",
       "      <td>0</td>\n",
       "      <td>2</td>\n",
       "      <td>-0.822788</td>\n",
       "      <td>0.119584</td>\n",
       "      <td>-1.069474</td>\n",
       "      <td>-0.506286</td>\n",
       "      <td>0</td>\n",
       "    </tr>\n",
       "    <tr>\n",
       "      <th>2</th>\n",
       "      <td>0</td>\n",
       "      <td>2</td>\n",
       "      <td>-0.676280</td>\n",
       "      <td>0.424729</td>\n",
       "      <td>-0.426373</td>\n",
       "      <td>-1.190361</td>\n",
       "      <td>0</td>\n",
       "    </tr>\n",
       "  </tbody>\n",
       "</table>\n",
       "</div>"
      ],
      "text/plain": [
       "   species  island  bill_length_mm  bill_depth_mm  flipper_length_mm  \\\n",
       "0        0       2       -0.896042       0.780732          -1.426752   \n",
       "1        0       2       -0.822788       0.119584          -1.069474   \n",
       "2        0       2       -0.676280       0.424729          -0.426373   \n",
       "\n",
       "   body_mass_g  sex  \n",
       "0    -0.568475    1  \n",
       "1    -0.506286    0  \n",
       "2    -1.190361    0  "
      ]
     },
     "execution_count": 63,
     "metadata": {},
     "output_type": "execute_result"
    }
   ],
   "source": [
    "# 인코딩한 결과 기존 데이터프레임에 넣어주기\n",
    "penguins_label = penguins_label.assign(species = encoded['species'],\n",
    "                                      island= encoded['island'], \n",
    "                                      sex = encoded['sex'] )\n",
    "penguins_label.head(3)"
   ]
  },
  {
   "cell_type": "code",
   "execution_count": 64,
   "id": "17cf5ef9",
   "metadata": {},
   "outputs": [
    {
     "name": "stderr",
     "output_type": "stream",
     "text": [
      "C:\\Users\\wjd98\\anaconda3\\lib\\site-packages\\seaborn\\_decorators.py:36: FutureWarning: Pass the following variable as a keyword arg: x. From version 0.12, the only valid positional argument will be `data`, and passing other arguments without an explicit keyword will result in an error or misinterpretation.\n",
      "  warnings.warn(\n"
     ]
    },
    {
     "data": {
      "image/png": "[encoded data removed]",
      "text/plain": [
       "<Figure size 432x288 with 1 Axes>"
      ]
     },
     "metadata": {
      "needs_background": "light"
     },
     "output_type": "display_data"
    }
   ],
   "source": [
    "sns.countplot(penguins_label['species'])\n",
    "plt.show()"
   ]
  },
  {
   "cell_type": "markdown",
   "id": "a8550296",
   "metadata": {},
   "source": [
    "## 테스트데이터만들기"
   ]
  },
  {
   "cell_type": "code",
   "execution_count": 65,
   "id": "0f201686",
   "metadata": {},
   "outputs": [],
   "source": [
    "from sklearn.model_selection import train_test_split\n",
    "\n",
    "# 성별 예측하기\n",
    "X = penguins_label.drop('sex',axis=1) # X: 예측할 변수를 제외한 데이터\n",
    "Y = penguins_label['sex']    #Y: 예측할 변수\n",
    "\n",
    "# 학습 테스트 세트 분할\n",
    "X_train, X_test, Y_train, Y_test = train_test_split(X,Y, test_size=0.2, shuffle=True)\n"
   ]
  },
  {
   "cell_type": "code",
   "execution_count": 66,
   "id": "049e7b24",
   "metadata": {},
   "outputs": [
    {
     "data": {
      "text/plain": [
       "321    1\n",
       "323    1\n",
       "279    1\n",
       "139    1\n",
       "225    0\n",
       "      ..\n",
       "125    1\n",
       "144    0\n",
       "181    1\n",
       "18     0\n",
       "147    0\n",
       "Name: sex, Length: 266, dtype: int32"
      ]
     },
     "execution_count": 66,
     "metadata": {},
     "output_type": "execute_result"
    }
   ],
   "source": [
    "Y_train"
   ]
  },
  {
   "cell_type": "code",
   "execution_count": 67,
   "id": "fb9f2830",
   "metadata": {},
   "outputs": [
    {
     "data": {
      "image/png": "[encoded data removed]",
      "text/plain": [
       "<Figure size 1080x360 with 1 Axes>"
      ]
     },
     "metadata": {
      "needs_background": "light"
     },
     "output_type": "display_data"
    }
   ],
   "source": [
    "# 예측 결과 시각화\n",
    "Y_test = Y_test.reset_index(drop=True)\n",
    "\n",
    "plt.figure(figsize=(15, 5))\n",
    "plt.plot(Y_test, label='Actual')\n",
    "plt.plot(predictions, label='Prediction')\n",
    "plt.legend(loc='upper right')\n",
    "plt.ylabel('Price($)')\n",
    "plt.show()"
   ]
  },
  {
   "cell_type": "markdown",
   "id": "4f12c4a8",
   "metadata": {},
   "source": [
    "# 모델링하기\n",
    "**MAE**: 가장 직관적으로 오차알기(낮을수록 좋음)\\\n",
    "\n",
    "**MSE**:  너무 못맞춘 예측값이 많을 수록 기하급수적으로 오차가 커짐\\\n",
    "\n",
    "**RMSE**: MSE 에 루트(root)를 씌운 지표로, MSE 수치 보다 좀더 직관적으로 확인(낮을수록 좋음)\\\n",
    "\n",
    "**R2**: 회귀선이 실제 값에 얼마나 잘 적합되었는가(높을 수록 적합이 잘 되었다는 의미)\\\n",
    "\n",
    "**Radj2**: 과적합 현상을 판단\\\n",
    "\n",
    "** 적합도 (R2) 가 높은데, 수정 된 적합도 (Radj2) 가 현저하게 낮다면, 학습 모델이 과적합 되었다고 판단\n"
   ]
  },
  {
   "cell_type": "markdown",
   "id": "cf2f6957",
   "metadata": {},
   "source": [
    "## 랜덤포레스트"
   ]
  },
  {
   "cell_type": "code",
   "execution_count": 68,
   "id": "5c2f3766",
   "metadata": {},
   "outputs": [
    {
     "name": "stdout",
     "output_type": "stream",
     "text": [
      "Note: you may need to restart the kernel to use updated packages.\n"
     ]
    },
    {
     "name": "stderr",
     "output_type": "stream",
     "text": [
      "ERROR: Could not find a version that satisfies the requirement mean_absolute_error (from versions: none)\n",
      "ERROR: No matching distribution found for mean_absolute_error\n"
     ]
    }
   ],
   "source": [
    "pip install mean_absolute_error"
   ]
  },
  {
   "cell_type": "code",
   "execution_count": 69,
   "id": "c36a7ebb",
   "metadata": {},
   "outputs": [],
   "source": [
    "from sklearn.model_selection import train_test_split    # 라이브러리 로딩\n",
    "from sklearn.linear_model import LinearRegression\n",
    "from sklearn.metrics import mean_absolute_error\n",
    "from sklearn.metrics import mean_squared_error\n",
    "from sklearn.metrics import r2_score"
   ]
  },
  {
   "cell_type": "code",
   "execution_count": 70,
   "id": "e11d3b82",
   "metadata": {},
   "outputs": [
    {
     "name": "stdout",
     "output_type": "stream",
     "text": [
      "MAE: 0.14\n",
      "MSE: 0.07\n",
      "RMSE: 0\n",
      "R2: 0.71\n",
      "adj_R2: 0.69\n"
     ]
    }
   ],
   "source": [
    "from sklearn.ensemble import RandomForestRegressor\n",
    "\n",
    "rf_model = RandomForestRegressor()    #모델정의\n",
    "rf_model.fit(X_train, Y_train)      # 모델학습\n",
    "\n",
    "predictions = rf_model.predict(X_test)\n",
    "\n",
    "mae = mean_absolute_error(Y_test, predictions)\n",
    "mse = mean_squared_error(Y_test, predictions)\n",
    "rmse = mse **0.5\n",
    "r2 = r2_score(Y_test, predictions)\n",
    "adj_r2 = 1- (1-r2) * (len(Y_test)-1)/ (len(Y_test) - X_test.shape[1]-1 )\n",
    "\n",
    "\n",
    "\n",
    "print(\"MAE: {}\".format(round(mae, 2)))\n",
    "print(\"MSE: {}\".format(round(mse, 2)))\n",
    "print(\"RMSE: {}\".format(round(rmse), 2))\n",
    "print(\"R2: {}\".format(round(r2, 2)))\n",
    "print(\"adj_R2: {}\".format(round(adj_r2, 2)))"
   ]
  },
  {
   "cell_type": "markdown",
   "id": "6e61938f",
   "metadata": {},
   "source": [
    "## XGBoost"
   ]
  },
  {
   "cell_type": "code",
   "execution_count": 71,
   "id": "70859ac6",
   "metadata": {
    "scrolled": true
   },
   "outputs": [
    {
     "data": {
      "text/plain": [
       "<AxesSubplot:title={'center':'Feature importance'}, xlabel='F score', ylabel='Features'>"
      ]
     },
     "execution_count": 71,
     "metadata": {},
     "output_type": "execute_result"
    },
    {
     "data": {
      "image/png": "[encoded data removed]",
      "text/plain": [
       "<Figure size 432x288 with 1 Axes>"
      ]
     },
     "metadata": {
      "needs_background": "light"
     },
     "output_type": "display_data"
    }
   ],
   "source": [
    "from xgboost import XGBRegressor\n",
    "from xgboost import plot_importance\n",
    "\n",
    "xgb_model = XGBRegressor()\n",
    "xgb_model.fit(X_train, Y_train)\n",
    "\n",
    "plot_importance(xgb_model)"
   ]
  },
  {
   "cell_type": "code",
   "execution_count": 72,
   "id": "3d773081",
   "metadata": {},
   "outputs": [
    {
     "name": "stdout",
     "output_type": "stream",
     "text": [
      "MAE: 0.13\n",
      "MSE: 0.07\n",
      "RMSE: 0\n",
      "R2: 0.71\n",
      "adj_R2: 0.68\n"
     ]
    }
   ],
   "source": [
    "predictions = xgb_model.predict(X_test)\n",
    "\n",
    "mae = mean_absolute_error(Y_test, predictions)\n",
    "mse = mean_squared_error(Y_test, predictions)\n",
    "rmse = mse ** 0.5\n",
    "r2 = r2_score(Y_test, predictions)\n",
    "adj_r2 = 1 - ( 1-r2) * ( len(Y_test)-1)/ ( len(Y_test)- X_test.shape[1]-1)\n",
    "\n",
    "print(\"MAE: {}\".format(round(mae, 2)))\n",
    "print(\"MSE: {}\".format(round(mse, 2)))\n",
    "print(\"RMSE: {}\".format(round(rmse), 2))\n",
    "print(\"R2: {}\".format(round(r2, 2)))\n",
    "print(\"adj_R2: {}\".format(round(adj_r2, 2)))"
   ]
  },
  {
   "cell_type": "markdown",
   "id": "0d9b598d",
   "metadata": {},
   "source": [
    "## lightgbm"
   ]
  },
  {
   "cell_type": "code",
   "execution_count": 75,
   "id": "48057dd4",
   "metadata": {},
   "outputs": [
    {
     "name": "stdout",
     "output_type": "stream",
     "text": [
      "MAE: 0.17\n",
      "MSE: 0.07\n",
      "RMSE: 0\n",
      "R2: 0.72\n",
      "adj_R2: 0.69\n"
     ]
    }
   ],
   "source": [
    "# 라이브러리 로딩\n",
    "from lightgbm import LGBMRegressor  # 분류 문제 : LGBMClassifier\n",
    "\n",
    "# 모델 정의 / 학습\n",
    "lgbm_model = LGBMRegressor()\n",
    "lgbm_model.fit(X_train, Y_train)\n",
    "\n",
    "# 예측 결과 확인\n",
    "predictions = lgbm_model.predict(X_test)\n",
    "mae = mean_absolute_error(Y_test, predictions)\n",
    "mse = mean_squared_error(Y_test, predictions)\n",
    "rmse = mse ** 0.5\n",
    "r2 = r2_score(Y_test, predictions)\n",
    "adj_r2 = 1 - ( 1 - r2 ) * ( len(Y_test) - 1 ) / ( len(Y_test) - X_test.shape[1] - 1 )\n",
    "\n",
    "print(\"MAE: {}\".format(round(mae, 2)))\n",
    "print(\"MSE: {}\".format(round(mse, 2)))\n",
    "print(\"RMSE: {}\".format(round(rmse), 2))\n",
    "print(\"R2: {}\".format(round(r2, 2)))\n",
    "print(\"adj_R2: {}\".format(round(adj_r2, 2)))"
   ]
  }
 ],
 "metadata": {
  "kernelspec": {
   "display_name": "Python 3 (ipykernel)",
   "language": "python",
   "name": "python3"
  },
  "language_info": {
   "codemirror_mode": {
    "name": "ipython",
    "version": 3
   },
   "file_extension": ".py",
   "mimetype": "text/x-python",
   "name": "python",
   "nbconvert_exporter": "python",
   "pygments_lexer": "ipython3",
   "version": "3.9.12"
  }
 },
 "nbformat": 4,
 "nbformat_minor": 5
}
